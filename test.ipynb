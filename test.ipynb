{
 "cells": [
  {
   "cell_type": "code",
   "execution_count": 1,
   "id": "baac839f",
   "metadata": {},
   "outputs": [
    {
     "name": "stdout",
     "output_type": "stream",
     "text": [
      "import error: No module named 'triton'\n"
     ]
    }
   ],
   "source": [
    "import torch\n",
    "import torch.nn as nn\n",
    "from zeta.nn import FusedDenseGELUDense\n",
    "\n",
    "\n"
   ]
  },
  {
   "cell_type": "code",
   "execution_count": 3,
   "id": "2fead398",
   "metadata": {},
   "outputs": [
    {
     "data": {
      "text/plain": [
       "12"
      ]
     },
     "execution_count": 3,
     "metadata": {},
     "output_type": "execute_result"
    }
   ],
   "source": [
    "import functools\n",
    "\n",
    "def multiply(x, y, z):\n",
    "    \n",
    "    return x * y * z\n",
    "\n",
    "func = functools.partial(multiply, x = 3, y = 2)\n",
    "\n",
    "func(z = 2)"
   ]
  },
  {
   "cell_type": "code",
   "execution_count": 1,
   "id": "3b285159",
   "metadata": {},
   "outputs": [],
   "source": [
    "hi = {\n",
    "}"
   ]
  },
  {
   "cell_type": "code",
   "execution_count": 2,
   "id": "dea71319",
   "metadata": {},
   "outputs": [],
   "source": [
    "hi['hello'] = 0"
   ]
  },
  {
   "cell_type": "code",
   "execution_count": 3,
   "id": "9b7e09b9",
   "metadata": {},
   "outputs": [
    {
     "name": "stdout",
     "output_type": "stream",
     "text": [
      "{'hello': 0}\n"
     ]
    }
   ],
   "source": [
    "print(hi)"
   ]
  },
  {
   "cell_type": "code",
   "execution_count": null,
   "id": "562f8981",
   "metadata": {},
   "outputs": [],
   "source": [
    "X = torch.load('data/tensors/train/X/X_train0.pt')\n",
    "y = torch.load('data/tensors/train/y/y_train0.pt')\n",
    "\n",
    "print(X[0:10])\n",
    "print(y[0:11])"
   ]
  },
  {
   "cell_type": "code",
   "execution_count": null,
   "id": "0a298799",
   "metadata": {},
   "outputs": [],
   "source": []
  }
 ],
 "metadata": {
  "kernelspec": {
   "display_name": "base",
   "language": "python",
   "name": "python3"
  },
  "language_info": {
   "codemirror_mode": {
    "name": "ipython",
    "version": 3
   },
   "file_extension": ".py",
   "mimetype": "text/x-python",
   "name": "python",
   "nbconvert_exporter": "python",
   "pygments_lexer": "ipython3",
   "version": "3.12.2"
  }
 },
 "nbformat": 4,
 "nbformat_minor": 5
}
